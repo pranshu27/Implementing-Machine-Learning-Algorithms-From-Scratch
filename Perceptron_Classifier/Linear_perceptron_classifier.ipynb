{
 "cells": [
  {
   "cell_type": "markdown",
   "metadata": {},
   "source": [
    "# Q1. We saw the perceptron algorithm in Lecture 15. I want you to implement this algorithm, and use it to classify banknotes as forged or authentic in this dataset. In particular,"
   ]
  },
  {
   "cell_type": "markdown",
   "metadata": {},
   "source": [
    "# (a) Code up the perceptron algorithm described on slide 7 of Lecture 15 using the same notation as in the slides. [10 points]"
   ]
  },
  {
   "cell_type": "markdown",
   "metadata": {},
   "source": [
    "## Here there are two ways in which we are trying to check the convergence:\n",
    "1. Maximum iterations are reached\n",
    "2. If the weights are not updated contunously for k times\n"
   ]
  },
  {
   "cell_type": "code",
   "execution_count": 1,
   "metadata": {},
   "outputs": [],
   "source": [
    "def train(X, y, max_iter=1000, tol = 1e-04, k=10):\n",
    "    w=np.ones((X.shape[1],1)) # initialiazing the weight vector to all 1s\n",
    "    #b=1\n",
    "    learning_rate=1\n",
    "    ctr=0\n",
    "    X = np.array(X)\n",
    "    y = np.array(y)\n",
    "    for it in range(max_iter):\n",
    "        i = np.random.randint(X.shape[0]) \n",
    "        XX=X[i,]#randomly choosing a data point \n",
    "        yy=y[i]#randomly choosing a data point \n",
    "    #    print(XX, yy, it)\n",
    "        if yy * (np.dot(w.T,XX))<0:\n",
    "            ctr=0\n",
    "            tmp = w\n",
    "            w+=learning_rate * np.dot(XX,yy).reshape(4,1)\n",
    "            #print(w-tmp, it)\n",
    "            if np.all(w!=tmp) and np.all(np.abs(w-tmp)<= tol) :\n",
    "                #print(\"aaya\")\n",
    "                break\n",
    "        else:\n",
    "            ctr+=1\n",
    "        if ctr==k:\n",
    "            break\n",
    "    return w,it"
   ]
  },
  {
   "cell_type": "markdown",
   "metadata": {},
   "source": [
    "# (b) Write functions to make predictions using the algorithm for the banknotes dataset. Preprocess the dataset to handle missing and anomalous data. [10 points]"
   ]
  },
  {
   "cell_type": "code",
   "execution_count": 2,
   "metadata": {},
   "outputs": [
    {
     "data": {
      "text/html": [
       "<div>\n",
       "<style scoped>\n",
       "    .dataframe tbody tr th:only-of-type {\n",
       "        vertical-align: middle;\n",
       "    }\n",
       "\n",
       "    .dataframe tbody tr th {\n",
       "        vertical-align: top;\n",
       "    }\n",
       "\n",
       "    .dataframe thead th {\n",
       "        text-align: right;\n",
       "    }\n",
       "</style>\n",
       "<table border=\"1\" class=\"dataframe\">\n",
       "  <thead>\n",
       "    <tr style=\"text-align: right;\">\n",
       "      <th></th>\n",
       "      <th>variance</th>\n",
       "      <th>skewness</th>\n",
       "      <th>curtosis</th>\n",
       "      <th>entropy</th>\n",
       "      <th>class</th>\n",
       "    </tr>\n",
       "  </thead>\n",
       "  <tbody>\n",
       "    <tr>\n",
       "      <th>0</th>\n",
       "      <td>0.835659</td>\n",
       "      <td>0.820982</td>\n",
       "      <td>0.121804</td>\n",
       "      <td>0.644326</td>\n",
       "      <td>-1</td>\n",
       "    </tr>\n",
       "    <tr>\n",
       "      <th>1</th>\n",
       "      <td>0.786629</td>\n",
       "      <td>0.416648</td>\n",
       "      <td>0.310608</td>\n",
       "      <td>0.786951</td>\n",
       "      <td>-1</td>\n",
       "    </tr>\n",
       "    <tr>\n",
       "      <th>2</th>\n",
       "      <td>0.757105</td>\n",
       "      <td>0.871699</td>\n",
       "      <td>0.054921</td>\n",
       "      <td>0.450440</td>\n",
       "      <td>-1</td>\n",
       "    </tr>\n",
       "    <tr>\n",
       "      <th>3</th>\n",
       "      <td>0.531578</td>\n",
       "      <td>0.348662</td>\n",
       "      <td>0.424662</td>\n",
       "      <td>0.687362</td>\n",
       "      <td>-1</td>\n",
       "    </tr>\n",
       "    <tr>\n",
       "      <th>4</th>\n",
       "      <td>0.822859</td>\n",
       "      <td>0.877275</td>\n",
       "      <td>0.057100</td>\n",
       "      <td>0.489711</td>\n",
       "      <td>-1</td>\n",
       "    </tr>\n",
       "  </tbody>\n",
       "</table>\n",
       "</div>"
      ],
      "text/plain": [
       "   variance  skewness  curtosis   entropy  class\n",
       "0  0.835659  0.820982  0.121804  0.644326     -1\n",
       "1  0.786629  0.416648  0.310608  0.786951     -1\n",
       "2  0.757105  0.871699  0.054921  0.450440     -1\n",
       "3  0.531578  0.348662  0.424662  0.687362     -1\n",
       "4  0.822859  0.877275  0.057100  0.489711     -1"
      ]
     },
     "execution_count": 2,
     "metadata": {},
     "output_type": "execute_result"
    }
   ],
   "source": [
    "import pandas as pd\n",
    "import numpy as np\n",
    "\n",
    "df = pd.read_csv(r\"data_banknote_authentication.txt\")\n",
    "df.columns = ['variance', 'skewness', 'curtosis', 'entropy', 'class']\n",
    "df.reset_index(drop=True, inplace=True)\n",
    "\n",
    "#performing min-max scaling on the data\n",
    "df['variance'] = (df['variance']- df['variance'].min())/(df['variance'].max()- df['variance'].min())\n",
    "df['skewness'] = (df['skewness']- df['skewness'].min())/(df['skewness'].max()- df['skewness'].min())\n",
    "df['curtosis'] = (df['curtosis']- df['curtosis'].min())/(df['curtosis'].max()- df['curtosis'].min())\n",
    "df['entropy'] = (df['entropy']- df['entropy'].min())/(df['entropy'].max()- df['entropy'].min())\n",
    "#df\n",
    "#print(len(df))\n",
    "df.drop_duplicates(['variance', 'skewness', 'curtosis', 'entropy'], inplace=True) #dropping unnecessary duplicates\n",
    "#print(len(df))\n",
    "df['class'] = df['class'].apply(lambda x: -1 if x == 0 else 1)\n",
    "\n",
    "df.head(5)"
   ]
  },
  {
   "cell_type": "markdown",
   "metadata": {},
   "source": [
    "## A function to classify if the notes are authentic or not:"
   ]
  },
  {
   "cell_type": "code",
   "execution_count": 3,
   "metadata": {},
   "outputs": [],
   "source": [
    "def predict(X,w):\n",
    "    y_pred = np.zeros(X.shape[0])\n",
    "\n",
    "    for i in range(X.shape[0]):\n",
    "        y_pred[i] = np.where(np.dot(w.T,X[i])<0, -1, 1)\n",
    "    return y_pred"
   ]
  },
  {
   "cell_type": "code",
   "execution_count": null,
   "metadata": {},
   "outputs": [],
   "source": []
  },
  {
   "cell_type": "markdown",
   "metadata": {},
   "source": [
    "# (c) Train the algorithm on the dataset using cross-validation and report cross-validated test set error [10 points]"
   ]
  },
  {
   "cell_type": "markdown",
   "metadata": {},
   "source": [
    "## Performing 10 fold cross validation, and choosing the set of weights which give the minimum validation set (chosen randomly in every iteration) error, "
   ]
  },
  {
   "cell_type": "code",
   "execution_count": 4,
   "metadata": {},
   "outputs": [
    {
     "name": "stdout",
     "output_type": "stream",
     "text": [
      "\n",
      "Current Error: 26.296 % \tCurrent Weigths: [[-3.1919436211409917], [0.5622002192728074], [-0.3945451138346219], [2.6879593005810296]]\n",
      "\n",
      "Current Error: 27.407 % \tCurrent Weigths: [[-2.8592237630616797], [0.1513730743469519], [0.4608788420531158], [1.0539649199378052]]\n",
      "\n",
      "Current Error: 17.037 % \tCurrent Weigths: [[-2.542707526556044], [-0.39211964961253076], [-0.35951093113920846], [1.912295661820199]]\n",
      "\n",
      "Current Error: 30.741 % \tCurrent Weigths: [[-1.526788972300947], [-1.6256504282555095], [0.22419152648243487], [1.317475290287969]]\n",
      "\n",
      "Current Error: 20.741 % \tCurrent Weigths: [[-1.8321722951777253], [-0.10437804727461852], [0.9362911667779525], [1.2057674786546275]]\n",
      "\n",
      "Current Error: 25.556 % \tCurrent Weigths: [[-3.757500587730492], [1.210424411978431], [-0.055162039330562435], [2.1756980095838214]]\n",
      "\n",
      "Current Error: 20.37 % \tCurrent Weigths: [[-1.713452105373227], [-0.5129838688554037], [0.38047386219225876], [1.4417440919464983]]\n",
      "\n",
      "Current Error: 28.519 % \tCurrent Weigths: [[-1.55227769003887], [-1.008596130171714], [0.9206335106726693], [1.6611485492421143]]\n",
      "\n",
      "Current Error: 23.704 % \tCurrent Weigths: [[-2.215940116392273], [-0.16670720344849554], [1.2686409201542206], [0.8377212508069867]]\n",
      "\n",
      "Current Error: 12.963 % \tCurrent Weigths: [[-2.9646557702154057], [0.6619944171496777], [-0.006463695694315458], [1.6062482428144067]]\n",
      "\n",
      "\n",
      "\n",
      "Minimum reported test set error after 10 fold cross validation: 12.963 %\n",
      "\n",
      "Average test set error: 23.333 %\n"
     ]
    }
   ],
   "source": [
    "def cross_validate():\n",
    "    min_err = 1\n",
    "    best_w = np.ones(4)#initializing the weight vectors as all 1s\n",
    "    s = 0\n",
    "    for i in range(10):\n",
    "        #print(i)\n",
    "        training_data_u = df.sample(frac=0.8)\n",
    "        #testing_data_u = df.drop(training_data_u.index)\n",
    "\n",
    "        validation_data_u = training_data_u.sample(frac=0.25)\n",
    "        training_data_u = training_data_u.drop(validation_data_u.index)\n",
    "\n",
    "        X_train = training_data_u[['variance', 'skewness', 'curtosis', 'entropy']]\n",
    "        y_train = training_data_u['class']\n",
    "\n",
    "        w,it = train(X_train, y_train)\n",
    "\n",
    "        X_validate = validation_data_u[['variance', 'skewness', 'curtosis', 'entropy']]\n",
    "        y_validate = validation_data_u['class']\n",
    "\n",
    "        X_validate = np.array(X_validate)\n",
    "        y_validate = np.array(y_validate)\n",
    "        \n",
    "        #print(X_validate,y_validate )\n",
    "        y_pred = predict(X_validate,w)\n",
    "        count = 0\n",
    "       # print(y_pred)\n",
    "        for i in range(len(y_pred)):\n",
    "            if(y_pred[i]==y_validate[i]):\n",
    "                count+=1\n",
    "\n",
    "        error = 1-count/len(y_pred)\n",
    "        s+=error\n",
    "        #print(\"Error:\", error )\n",
    "        if(error<min_err):\n",
    "            min_err = error\n",
    "            best_w = w\n",
    "        \n",
    "        \n",
    "        print(\"\\nCurrent Error:\", round(error*100,3), '%',\"\\tCurrent Weigths:\", w.tolist())\n",
    "        #break\n",
    "    print(\"\\n\\n\\nMinimum reported test set error after 10 fold cross validation:\", round(min_err*100,3), '%')\n",
    "\n",
    "    print(\"\\nAverage test set error:\", round(s*10,3), '%')\n",
    "    return best_w\n",
    "\n",
    "best_weights = cross_validate()\n",
    "        "
   ]
  },
  {
   "cell_type": "markdown",
   "metadata": {},
   "source": [
    "# Ensure you use a held out validation set and report F1 score on the held out set for your best model [5 points]"
   ]
  },
  {
   "cell_type": "markdown",
   "metadata": {},
   "source": [
    "\n",
    "\n",
    "$$Precision = \\frac{tp}{tp+fp}$$\n",
    "$$Recall = \\frac{tp}{tp+fn}$$\n",
    "$$F_{1} \\;Score=\\frac{2 \\times \\text{Precisión} \\times \\text{Recall}}{\\text{Precisión} + \\text{Recall}}$$\n",
    "<br>\n",
    "where,\n",
    "\n",
    "tp = #true_positives\n",
    "<br>\n",
    "fp = #false_positives\n",
    "<br>\n",
    "fn = #false_negatives"
   ]
  },
  {
   "cell_type": "code",
   "execution_count": 5,
   "metadata": {},
   "outputs": [],
   "source": [
    "\n",
    "def compute_params(y_og, y_predicted): #computing true positives, true negatives, false positives, false negatives\n",
    "\ttp = sum((y_og == 1) & (y_predicted == 1))\n",
    "\ttn = sum((y_og == -1) & (y_predicted == -1))\n",
    "\tfp = sum((y_og == -1) & (y_predicted == 1))\n",
    "\tfn = sum((y_og == 1) & (y_predicted == -1))\n",
    "\treturn tp, tn, fp, fn\n",
    "\n",
    "def compute_prec(tp, fp): #function to calculate the precision\n",
    "\treturn (tp)/ float( tp + fp)\n",
    "    \n",
    "def compute_rec(tp, fn): #function to calculate the recall\n",
    "\treturn (tp)/ float( tp + fn)\n",
    "\n",
    "def compute_f1(y_og, y_pred): #function to calculate the F1 score\n",
    "    tp, tn, fp, fn = compute_params(y_og, y_pred)\n",
    "    prec = compute_prec(tp, fp)\n",
    "    rec = compute_rec(tp, fn)\n",
    "    f1_score = (2*prec*rec)/ (prec + rec)\n",
    "    return f1_score\n"
   ]
  },
  {
   "cell_type": "markdown",
   "metadata": {},
   "source": [
    "## Dividing overall data into train, test and validation sets. The test set so calculated will be used as the \"held-out\" validation set later."
   ]
  },
  {
   "cell_type": "code",
   "execution_count": 6,
   "metadata": {},
   "outputs": [],
   "source": [
    "training_data_master = df.sample(frac=0.8)\n",
    "testing_data_master = df.drop(training_data_master.index)\n",
    "\n",
    "validation_data_master = training_data_master.sample(frac=0.25)\n",
    "training_data_master = training_data_master.drop(validation_data_master.index)"
   ]
  },
  {
   "cell_type": "markdown",
   "metadata": {},
   "source": [
    "## Below are the best weights obtained after cross validation:"
   ]
  },
  {
   "cell_type": "code",
   "execution_count": 7,
   "metadata": {},
   "outputs": [
    {
     "data": {
      "text/plain": [
       "array([[-2.96465577],\n",
       "       [ 0.66199442],\n",
       "       [-0.0064637 ],\n",
       "       [ 1.60624824]])"
      ]
     },
     "execution_count": 7,
     "metadata": {},
     "output_type": "execute_result"
    }
   ],
   "source": [
    "best_weights"
   ]
  },
  {
   "cell_type": "code",
   "execution_count": 8,
   "metadata": {},
   "outputs": [
    {
     "name": "stdout",
     "output_type": "stream",
     "text": [
      "The required F1 score for the held out validation set is 0.8724\n"
     ]
    }
   ],
   "source": [
    "X_test = testing_data_master[['variance', 'skewness', 'curtosis', 'entropy']]\n",
    "y_test = testing_data_master['class']\n",
    "\n",
    "X_test = np.array(X_test)\n",
    "y_test = np.array(y_test)\n",
    "\n",
    "y_pred = predict(X_test,best_weights)\n",
    "\n",
    "print('The required F1 score for the held out validation set is', round(compute_f1(y_test, y_pred),4))"
   ]
  },
  {
   "cell_type": "code",
   "execution_count": null,
   "metadata": {},
   "outputs": [],
   "source": []
  },
  {
   "cell_type": "code",
   "execution_count": null,
   "metadata": {},
   "outputs": [],
   "source": []
  },
  {
   "cell_type": "code",
   "execution_count": null,
   "metadata": {},
   "outputs": [],
   "source": []
  },
  {
   "cell_type": "code",
   "execution_count": null,
   "metadata": {},
   "outputs": [],
   "source": []
  },
  {
   "cell_type": "code",
   "execution_count": null,
   "metadata": {},
   "outputs": [],
   "source": []
  },
  {
   "cell_type": "code",
   "execution_count": null,
   "metadata": {},
   "outputs": [],
   "source": []
  },
  {
   "cell_type": "code",
   "execution_count": null,
   "metadata": {},
   "outputs": [],
   "source": []
  }
 ],
 "metadata": {
  "interpreter": {
   "hash": "2f2aef12728c24554d1b9d445ac8696dd62b59cdace567cfcd970674ae8454a3"
  },
  "kernelspec": {
   "display_name": "Python 3.8.8 64-bit ('base': conda)",
   "name": "python3"
  },
  "language_info": {
   "codemirror_mode": {
    "name": "ipython",
    "version": 3
   },
   "file_extension": ".py",
   "mimetype": "text/x-python",
   "name": "python",
   "nbconvert_exporter": "python",
   "pygments_lexer": "ipython3",
   "version": "3.8.8"
  },
  "varInspector": {
   "cols": {
    "lenName": 16,
    "lenType": 16,
    "lenVar": 40
   },
   "kernels_config": {
    "python": {
     "delete_cmd_postfix": "",
     "delete_cmd_prefix": "del ",
     "library": "var_list.py",
     "varRefreshCmd": "print(var_dic_list())"
    },
    "r": {
     "delete_cmd_postfix": ") ",
     "delete_cmd_prefix": "rm(",
     "library": "var_list.r",
     "varRefreshCmd": "cat(var_dic_list()) "
    }
   },
   "types_to_exclude": [
    "module",
    "function",
    "builtin_function_or_method",
    "instance",
    "_Feature"
   ],
   "window_display": false
  }
 },
 "nbformat": 4,
 "nbformat_minor": 2
}
