{
 "cells": [
  {
   "cell_type": "markdown",
   "metadata": {},
   "source": [
    "# Q1. We saw the perceptron algorithm in Lecture 15. I want you to implement this algorithm, and use it to classify banknotes as forged or authentic in this dataset. In particular,"
   ]
  },
  {
   "cell_type": "markdown",
   "metadata": {},
   "source": [
    "# (a) Code up the perceptron algorithm described on slide 7 of Lecture 15 using the same notation as in the slides. [10 points]"
   ]
  },
  {
   "cell_type": "markdown",
   "metadata": {},
   "source": [
    "## Here there are two ways in which we are trying to check the convergence:\n",
    "1. Maximum iterations are reached\n",
    "2. If the weights are not updated contunously for k times\n"
   ]
  },
  {
   "cell_type": "code",
   "execution_count": 205,
   "metadata": {},
   "outputs": [],
   "source": [
    "def train(X, y, max_iter=1000, tol = 1e-04, k=10):\n",
    "    w=np.ones((X.shape[1],1)) # initialiazing the weight vector to all 1s\n",
    "    #b=1\n",
    "    learning_rate=1\n",
    "    ctr=0\n",
    "    X = np.array(X)\n",
    "    y = np.array(y)\n",
    "    for it in range(max_iter):\n",
    "        i = np.random.randint(X.shape[0]) \n",
    "        XX=X[i,]#randomly choosing a data point \n",
    "        yy=y[i]#randomly choosing a data point \n",
    "    #    print(XX, yy, it)\n",
    "        if yy * (np.dot(w.T,XX))<0:\n",
    "            ctr=0\n",
    "            tmp = w\n",
    "            w+=learning_rate * np.dot(XX,yy).reshape(4,1)\n",
    "            #print(w-tmp, it)\n",
    "            if np.all(w!=tmp) and np.all(np.abs(w-tmp)<= tol) :\n",
    "                #print(\"aaya\")\n",
    "                break\n",
    "        else:\n",
    "            ctr+=1\n",
    "        if ctr==k:\n",
    "            break\n",
    "    return w,it"
   ]
  },
  {
   "cell_type": "markdown",
   "metadata": {},
   "source": [
    "# (b) Write functions to make predictions using the algorithm for the banknotes dataset. Preprocess the dataset to handle missing and anomalous data. [10 points]"
   ]
  },
  {
   "cell_type": "code",
   "execution_count": 206,
   "metadata": {},
   "outputs": [
    {
     "data": {
      "text/html": [
       "<div>\n",
       "<style scoped>\n",
       "    .dataframe tbody tr th:only-of-type {\n",
       "        vertical-align: middle;\n",
       "    }\n",
       "\n",
       "    .dataframe tbody tr th {\n",
       "        vertical-align: top;\n",
       "    }\n",
       "\n",
       "    .dataframe thead th {\n",
       "        text-align: right;\n",
       "    }\n",
       "</style>\n",
       "<table border=\"1\" class=\"dataframe\">\n",
       "  <thead>\n",
       "    <tr style=\"text-align: right;\">\n",
       "      <th></th>\n",
       "      <th>variance</th>\n",
       "      <th>skewness</th>\n",
       "      <th>curtosis</th>\n",
       "      <th>entropy</th>\n",
       "      <th>class</th>\n",
       "    </tr>\n",
       "  </thead>\n",
       "  <tbody>\n",
       "    <tr>\n",
       "      <th>0</th>\n",
       "      <td>4.54590</td>\n",
       "      <td>8.1674</td>\n",
       "      <td>-2.4586</td>\n",
       "      <td>-1.46210</td>\n",
       "      <td>-1</td>\n",
       "    </tr>\n",
       "    <tr>\n",
       "      <th>1</th>\n",
       "      <td>3.86600</td>\n",
       "      <td>-2.6383</td>\n",
       "      <td>1.9242</td>\n",
       "      <td>0.10645</td>\n",
       "      <td>-1</td>\n",
       "    </tr>\n",
       "    <tr>\n",
       "      <th>2</th>\n",
       "      <td>3.45660</td>\n",
       "      <td>9.5228</td>\n",
       "      <td>-4.0112</td>\n",
       "      <td>-3.59440</td>\n",
       "      <td>-1</td>\n",
       "    </tr>\n",
       "    <tr>\n",
       "      <th>3</th>\n",
       "      <td>0.32924</td>\n",
       "      <td>-4.4552</td>\n",
       "      <td>4.5718</td>\n",
       "      <td>-0.98880</td>\n",
       "      <td>-1</td>\n",
       "    </tr>\n",
       "    <tr>\n",
       "      <th>4</th>\n",
       "      <td>4.36840</td>\n",
       "      <td>9.6718</td>\n",
       "      <td>-3.9606</td>\n",
       "      <td>-3.16250</td>\n",
       "      <td>-1</td>\n",
       "    </tr>\n",
       "  </tbody>\n",
       "</table>\n",
       "</div>"
      ],
      "text/plain": [
       "   variance  skewness  curtosis  entropy  class\n",
       "0   4.54590    8.1674   -2.4586 -1.46210     -1\n",
       "1   3.86600   -2.6383    1.9242  0.10645     -1\n",
       "2   3.45660    9.5228   -4.0112 -3.59440     -1\n",
       "3   0.32924   -4.4552    4.5718 -0.98880     -1\n",
       "4   4.36840    9.6718   -3.9606 -3.16250     -1"
      ]
     },
     "execution_count": 206,
     "metadata": {},
     "output_type": "execute_result"
    }
   ],
   "source": [
    "import pandas as pd\n",
    "import numpy as np\n",
    "\n",
    "\n",
    "df = pd.read_csv(r\"data_banknote_authentication.txt\")\n",
    "df.columns = ['variance', 'skewness', 'curtosis', 'entropy', 'class']\n",
    "df.reset_index(drop=True, inplace=True)\n",
    "\n",
    "#performing min-max scaling on the data\n",
    "# df['variance'] = (df['variance']- df['variance'].min())/(df['variance'].max()- df['variance'].min())\n",
    "# df['skewness'] = (df['skewness']- df['skewness'].min())/(df['skewness'].max()- df['skewness'].min())\n",
    "# df['curtosis'] = (df['curtosis']- df['curtosis'].min())/(df['curtosis'].max()- df['curtosis'].min())\n",
    "# df['entropy'] = (df['entropy']- df['entropy'].min())/(df['entropy'].max()- df['entropy'].min())\n",
    "#df\n",
    "#print(len(df))\n",
    "df.drop_duplicates(['variance', 'skewness', 'curtosis', 'entropy'], inplace=True) #dropping unnecessary duplicates\n",
    "#print(len(df))\n",
    "df['class'] = df['class'].apply(lambda x: -1 if x == 0 else 1)\n",
    "\n",
    "df.head(5)"
   ]
  },
  {
   "cell_type": "markdown",
   "metadata": {},
   "source": [
    "## A function to classify if the notes are authentic or not:"
   ]
  },
  {
   "cell_type": "code",
   "execution_count": 207,
   "metadata": {},
   "outputs": [],
   "source": [
    "def predict(X,w):\n",
    "    y_pred = np.zeros(X.shape[0])\n",
    "\n",
    "    for i in range(X.shape[0]):\n",
    "        y_pred[i] = np.where(np.dot(w.T,X[i])<0, -1, 1)\n",
    "    return y_pred"
   ]
  },
  {
   "cell_type": "code",
   "execution_count": null,
   "metadata": {},
   "outputs": [],
   "source": []
  },
  {
   "cell_type": "markdown",
   "metadata": {},
   "source": [
    "# (c) Train the algorithm on the dataset using cross-validation and report cross-validated test set error [10 points]"
   ]
  },
  {
   "cell_type": "markdown",
   "metadata": {},
   "source": [
    "## Performing 10 fold cross validation, and choosing the set of weights which give the minimum validation set (chosen randomly in every iteration) error, "
   ]
  },
  {
   "cell_type": "code",
   "execution_count": 208,
   "metadata": {},
   "outputs": [
    {
     "name": "stdout",
     "output_type": "stream",
     "text": [
      "\n",
      "Current Error: 21.111 % \tCurrent Weigths: [[-16.104820000000004], [-9.213899999999999], [4.56311], [-5.9662]]\n",
      "\n",
      "Current Error: 17.407 % \tCurrent Weigths: [[-15.574509999999998], [-8.793859999999999], [-0.6921800000000005], [-4.4909300000000005]]\n",
      "\n",
      "Current Error: 27.037 % \tCurrent Weigths: [[-6.0443], [-12.280648000000001], [-2.95663], [6.54951]]\n",
      "\n",
      "Current Error: 6.667 % \tCurrent Weigths: [[-14.489039999999997], [-7.062000000000001], [-2.7714209999999992], [-2.921187]]\n",
      "\n",
      "Current Error: 4.444 % \tCurrent Weigths: [[-18.85172], [-9.050455000000003], [-7.6030999999999995], [-7.456060000000002]]\n",
      "\n",
      "Current Error: 4.815 % \tCurrent Weigths: [[-11.41846], [-4.558000000000002], [-5.26956], [-3.5129090000000014]]\n",
      "\n",
      "Current Error: 9.259 % \tCurrent Weigths: [[-5.1378181], [-7.374463], [-6.872100000000001], [-1.9839899999999997]]\n",
      "\n",
      "Current Error: 21.111 % \tCurrent Weigths: [[-15.207457], [-8.49799], [3.731358999999999], [-3.385719999999999]]\n",
      "\n",
      "Current Error: 14.444 % \tCurrent Weigths: [[-4.5074], [-1.22653], [-0.23841999999999974], [-2.37076]]\n",
      "\n",
      "Current Error: 15.185 % \tCurrent Weigths: [[-5.145849999999999], [-1.6217000000000001], [-3.04494], [0.8417999999999997]]\n",
      "\n",
      "\n",
      "\n",
      "Minimum reported test set error after 10 fold cross validation: 4.444 %\n",
      "\n",
      "Average test set error: 14.148 %\n"
     ]
    }
   ],
   "source": [
    "def cross_validate():\n",
    "    min_err = 1\n",
    "    best_w = np.ones(4)#initializing the weight vectors as all 1s\n",
    "    s = 0\n",
    "    for i in range(10):\n",
    "        #print(i)\n",
    "        training_data_u = df.sample(frac=0.8)\n",
    "        #testing_data_u = df.drop(training_data_u.index)\n",
    "\n",
    "        validation_data_u = training_data_u.sample(frac=0.25)\n",
    "        training_data_u = training_data_u.drop(validation_data_u.index)\n",
    "\n",
    "        X_train = training_data_u[['variance', 'skewness', 'curtosis', 'entropy']]\n",
    "        y_train = training_data_u['class']\n",
    "\n",
    "        w,it = train(X_train, y_train)\n",
    "\n",
    "        X_validate = validation_data_u[['variance', 'skewness', 'curtosis', 'entropy']]\n",
    "        y_validate = validation_data_u['class']\n",
    "\n",
    "        X_validate = np.array(X_validate)\n",
    "        y_validate = np.array(y_validate)\n",
    "        \n",
    "        #print(X_validate,y_validate )\n",
    "        y_pred = predict(X_validate,w)\n",
    "        count = 0\n",
    "       # print(y_pred)\n",
    "        for i in range(len(y_pred)):\n",
    "            if(y_pred[i]==y_validate[i]):\n",
    "                count+=1\n",
    "\n",
    "        error = 1-count/len(y_pred)\n",
    "        s+=error\n",
    "        #print(\"Error:\", error )\n",
    "        if(error<min_err):\n",
    "            min_err = error\n",
    "            best_w = w\n",
    "        \n",
    "        \n",
    "        print(\"\\nCurrent Error:\", round(error*100,3), '%',\"\\tCurrent Weigths:\", w.tolist())\n",
    "        #break\n",
    "    print(\"\\n\\n\\nMinimum reported test set error after 10 fold cross validation:\", round(min_err*100,3), '%')\n",
    "\n",
    "    print(\"\\nAverage test set error:\", round(s*10,3), '%')\n",
    "    return best_w\n",
    "\n",
    "best_weights = cross_validate()\n",
    "        "
   ]
  },
  {
   "cell_type": "markdown",
   "metadata": {},
   "source": [
    "# Ensure you use a held out validation set and report F1 score on the held out set for your best model [5 points]"
   ]
  },
  {
   "cell_type": "markdown",
   "metadata": {},
   "source": [
    "\n",
    "\n",
    "$$Precision = \\frac{tp}{tp+fp}$$\n",
    "$$Recall = \\frac{tp}{tp+fn}$$\n",
    "$$F_{1} \\;Score=\\frac{2 \\times \\text{Precisión} \\times \\text{Recall}}{\\text{Precisión} + \\text{Recall}}$$\n",
    "<br>\n",
    "where,\n",
    "\n",
    "tp = #true_positives\n",
    "<br>\n",
    "fp = #false_positives\n",
    "<br>\n",
    "fn = #false_negatives"
   ]
  },
  {
   "cell_type": "code",
   "execution_count": 209,
   "metadata": {},
   "outputs": [],
   "source": [
    "\n",
    "def compute_params(y_og, y_predicted): #computing true positives, true negatives, false positives, false negatives\n",
    "\ttp = sum((y_og == 1) & (y_predicted == 1))\n",
    "\ttn = sum((y_og == -1) & (y_predicted == -1))\n",
    "\tfp = sum((y_og == -1) & (y_predicted == 1))\n",
    "\tfn = sum((y_og == 1) & (y_predicted == -1))\n",
    "\treturn tp, tn, fp, fn\n",
    "\n",
    "def compute_prec(tp, fp): #function to calculate the precision\n",
    "\treturn (tp)/ float( tp + fp)\n",
    "    \n",
    "def compute_rec(tp, fn): #function to calculate the recall\n",
    "\treturn (tp)/ float( tp + fn)\n",
    "\n",
    "def compute_f1(y_og, y_pred): #function to calculate the F1 score\n",
    "    tp, tn, fp, fn = compute_params(y_og, y_pred)\n",
    "    prec = compute_prec(tp, fp)\n",
    "    rec = compute_rec(tp, fn)\n",
    "    f1_score = (2*prec*rec)/ (prec + rec)\n",
    "    return f1_score\n"
   ]
  },
  {
   "cell_type": "markdown",
   "metadata": {},
   "source": [
    "## Dividing overall data into train, test and validation sets. The test set so calculated will be used as the \"held-out\" validation set later."
   ]
  },
  {
   "cell_type": "code",
   "execution_count": 210,
   "metadata": {},
   "outputs": [],
   "source": [
    "training_data_master = df.sample(frac=0.8)\n",
    "testing_data_master = df.drop(training_data_master.index)\n",
    "\n",
    "validation_data_master = training_data_master.sample(frac=0.25)\n",
    "training_data_master = training_data_master.drop(validation_data_master.index)"
   ]
  },
  {
   "cell_type": "markdown",
   "metadata": {},
   "source": [
    "## Below are the best weights obtained after cross validation:"
   ]
  },
  {
   "cell_type": "code",
   "execution_count": 211,
   "metadata": {},
   "outputs": [
    {
     "data": {
      "text/plain": [
       "array([[-18.85172 ],\n",
       "       [ -9.050455],\n",
       "       [ -7.6031  ],\n",
       "       [ -7.45606 ]])"
      ]
     },
     "execution_count": 211,
     "metadata": {},
     "output_type": "execute_result"
    }
   ],
   "source": [
    "best_weights"
   ]
  },
  {
   "cell_type": "code",
   "execution_count": 212,
   "metadata": {},
   "outputs": [
    {
     "name": "stdout",
     "output_type": "stream",
     "text": [
      "The required F1 score for the held out validation set is 0.9627\n"
     ]
    }
   ],
   "source": [
    "X_test = testing_data_master[['variance', 'skewness', 'curtosis', 'entropy']]\n",
    "y_test = testing_data_master['class']\n",
    "\n",
    "X_test = np.array(X_test)\n",
    "y_test = np.array(y_test)\n",
    "\n",
    "y_pred = predict(X_test,best_weights)\n",
    "\n",
    "print('The required F1 score for the held out validation set is', round(compute_f1(y_test, y_pred),4))"
   ]
  },
  {
   "cell_type": "code",
   "execution_count": null,
   "metadata": {},
   "outputs": [],
   "source": []
  },
  {
   "cell_type": "code",
   "execution_count": null,
   "metadata": {},
   "outputs": [],
   "source": []
  },
  {
   "cell_type": "code",
   "execution_count": null,
   "metadata": {},
   "outputs": [],
   "source": []
  },
  {
   "cell_type": "code",
   "execution_count": null,
   "metadata": {},
   "outputs": [],
   "source": []
  },
  {
   "cell_type": "code",
   "execution_count": null,
   "metadata": {},
   "outputs": [],
   "source": []
  },
  {
   "cell_type": "code",
   "execution_count": null,
   "metadata": {},
   "outputs": [],
   "source": []
  },
  {
   "cell_type": "code",
   "execution_count": null,
   "metadata": {},
   "outputs": [],
   "source": []
  }
 ],
 "metadata": {
  "kernelspec": {
   "display_name": "Python 3.8.13 ('mlp')",
   "language": "python",
   "name": "python3"
  },
  "language_info": {
   "codemirror_mode": {
    "name": "ipython",
    "version": 3
   },
   "file_extension": ".py",
   "mimetype": "text/x-python",
   "name": "python",
   "nbconvert_exporter": "python",
   "pygments_lexer": "ipython3",
   "version": "3.8.13"
  },
  "varInspector": {
   "cols": {
    "lenName": 16,
    "lenType": 16,
    "lenVar": 40
   },
   "kernels_config": {
    "python": {
     "delete_cmd_postfix": "",
     "delete_cmd_prefix": "del ",
     "library": "var_list.py",
     "varRefreshCmd": "print(var_dic_list())"
    },
    "r": {
     "delete_cmd_postfix": ") ",
     "delete_cmd_prefix": "rm(",
     "library": "var_list.r",
     "varRefreshCmd": "cat(var_dic_list()) "
    }
   },
   "types_to_exclude": [
    "module",
    "function",
    "builtin_function_or_method",
    "instance",
    "_Feature"
   ],
   "window_display": false
  },
  "vscode": {
   "interpreter": {
    "hash": "4976e0179d97dd6d59b1329a76e601e17b789c2571b41c8b57f5fd69821c0dd3"
   }
  }
 },
 "nbformat": 4,
 "nbformat_minor": 2
}
