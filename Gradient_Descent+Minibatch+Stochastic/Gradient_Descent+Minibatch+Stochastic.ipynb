{
 "cells": [
  {
   "cell_type": "code",
   "execution_count": 19,
   "id": "5d8523b0",
   "metadata": {},
   "outputs": [],
   "source": [
    "import numpy as np\n",
    "import time\n",
    "import random\n",
    "import pandas as pd\n",
    "import matplotlib.pyplot as plt\n"
   ]
  },
  {
   "cell_type": "markdown",
   "id": "63467f58",
   "metadata": {},
   "source": [
    "# Q1.a)  Use this function to find minima for (i) x2 + 3x+4 and (ii) x4 – 3x2 +2x. [5 points]\n"
   ]
  },
  {
   "cell_type": "markdown",
   "id": "3d38eb88",
   "metadata": {},
   "source": [
    "### 1. $x^2+3x+4$"
   ]
  },
  {
   "cell_type": "code",
   "execution_count": 20,
   "id": "4a94b4fd",
   "metadata": {},
   "outputs": [
    {
     "data": {
      "image/png": "[encoded data removed]",
      "text/plain": [
       "<Figure size 432x288 with 1 Axes>"
      ]
     },
     "metadata": {
      "needs_background": "light"
     },
     "output_type": "display_data"
    }
   ],
   "source": [
    "x=np.linspace(-15,15,300)\n",
    "y=x**2+3*x+4\n",
    "plt.xlim([-15,15])\n",
    "plt.ylim([0,10])\n",
    "plt.grid()\n",
    "\n",
    "plt.plot(x,y)\n",
    "plt.show()"
   ]
  },
  {
   "cell_type": "markdown",
   "id": "a87891b3",
   "metadata": {},
   "source": [
    "## 2. $x^4 - 3x^2 + 2x$"
   ]
  },
  {
   "cell_type": "code",
   "execution_count": 21,
   "id": "bbfee287",
   "metadata": {},
   "outputs": [
    {
     "data": {
      "image/png": "[encoded data removed]",
      "text/plain": [
       "<Figure size 432x288 with 1 Axes>"
      ]
     },
     "metadata": {
      "needs_background": "light"
     },
     "output_type": "display_data"
    }
   ],
   "source": [
    "x=np.linspace(-15,15,300)\n",
    "y=x**4-3*x*x+2*x\n",
    "plt.xlim([-15,15])\n",
    "plt.ylim([-10,15])\n",
    "plt.grid()\n",
    "plt.plot(x,y)\n",
    "plt.show()"
   ]
  },
  {
   "cell_type": "code",
   "execution_count": 22,
   "id": "2232a4f2",
   "metadata": {},
   "outputs": [
    {
     "name": "stdout",
     "output_type": "stream",
     "text": [
      "Iterations: 64\n",
      "Minima for the function x^2+3x+4 is found at -1.5 and the minimum value of the function is 1.75\n",
      "Iterations: 66\n",
      "Minima for the function x^4-3x^2+2x is found at -1.366 and the minimum value of the function is -4.848076206064\n"
     ]
    }
   ],
   "source": [
    "gradient1 = lambda x: 2*x+3 ## specifies gradient for the function x2 + 3x+4\n",
    "gradient2 = lambda x: 4*(x**3)-6*x+2 ## specifies gradient for the function  x4 – 3x2 +2x.\n",
    "\n",
    "def gradient_descent (gradient, init_, learn_rate, n_iter=1000, tol=1e-06):\n",
    "    x = init_\n",
    "    for i in range (n_iter): \n",
    "        delta = (-1)*learn_rate * gradient(x)\n",
    "        if np.all(np.abs (delta) <= tol): \n",
    "            break \n",
    "        x += delta \n",
    "    print('Iterations:', str(i+1))\n",
    "    return  round(x*1000)/1000\n",
    "\n",
    "x1 = gradient_descent(gradient1,4 , 0.1)\n",
    "min_func1 = x1**2+3*x1+4\n",
    "print('Minima for the function x^2+3x+4 is found at '+ str(x1), 'and the minimum value of the function is', str(min_func1))\n",
    "\n",
    "x2 = gradient_descent(gradient2,-1 , 0.01)\n",
    "min_func2 = x2**4 - 3*(x2**2) + 2*x2\n",
    "print('Minima for the function x^4-3x^2+2x is found at '+ str(x2), 'and the minimum value of the function is', str(min_func2))\n"
   ]
  },
  {
   "cell_type": "markdown",
   "id": "34a2d8a1",
   "metadata": {},
   "source": [
    "## NOTE: The first polynomial is a convex function, so initialisation won't matter a lot. But the second polynomial is a non convex function, and hence the initialization value matters. I tried initialising with the value **~4**, and ended up finding local minima. Finally, the initial value of **~-1** is giving me the global minima."
   ]
  },
  {
   "cell_type": "markdown",
   "id": "d91d3e9b",
   "metadata": {},
   "source": [
    "# Q1.b) Write a gradient function to calculate gradients for a linear regression y = ax + b [10 points]\n"
   ]
  },
  {
   "cell_type": "markdown",
   "id": "b74212e1",
   "metadata": {},
   "source": [
    "The gradients w.r.t __a__ and __b__ are calculated as: \n",
    "$$\\nabla_a = \\frac{-2}{n} * \\sum(X * (Y - Y_{pred}))$$\n",
    "$$\\nabla_b = \\frac{-2}{n} * \\sum(Y - Y_pred)$$\n",
    "<br>\n",
    "\n",
    "$where, \\; Y_{pred} = a\\ast X + b$,<br> n = number of points in the dataset, <br>X is the input vector, <br>Y is the output vector \n",
    "\n",
    "### The same are used in the function below to elaborate their actual usage:"
   ]
  },
  {
   "cell_type": "code",
   "execution_count": 23,
   "id": "46c907fd",
   "metadata": {},
   "outputs": [],
   "source": [
    "def calculate_gradients(X, Y):\n",
    "    Y_pred = a*X + b \n",
    "        \n",
    "    D_a = (-2/n) * np.dot(X.T,(Y - Y_pred)) # gradient wrt a \n",
    "    D_b = (-2/n) * sum(Y - Y_pred) # gradient wrt b\n",
    "    return D_a, D_b"
   ]
  },
  {
   "cell_type": "markdown",
   "id": "776bf08e",
   "metadata": {},
   "source": [
    "# Q1.c) Generate artificial data for this regression according to the following protocol\n"
   ]
  },
  {
   "cell_type": "code",
   "execution_count": 24,
   "id": "025d9c45",
   "metadata": {},
   "outputs": [],
   "source": [
    "# initializing the parameters to be used later\n",
    "my_iter = 1000\n",
    "my_tol = 1e-06\n",
    "my_lr = 0.005"
   ]
  },
  {
   "cell_type": "markdown",
   "id": "8717fbb2",
   "metadata": {},
   "source": [
    "### Here we are trying to generate some artificial data: "
   ]
  },
  {
   "cell_type": "code",
   "execution_count": 25,
   "id": "a92cea38",
   "metadata": {},
   "outputs": [],
   "source": [
    "#generating some random data \n",
    "\n",
    "np.random.seed (0)\n",
    "X = 2.5*np.random.randn(10000)+1.5 #Ar\n",
    "res=1.5*np.random.randn(10000) # Gene.\n",
    "Y = 2+0.3*X + res"
   ]
  },
  {
   "cell_type": "markdown",
   "id": "ded139b9",
   "metadata": {},
   "source": [
    "##  Here we are trying to calculate partial derivatives in each iteration, w.r.t to the free parameteres __a__ and __b__. We updated their values based on the learning rate and the gradients calculated, and break the loop under following two scenarios:\n",
    "### 1. Iterations have equalled to max_iter\n",
    "### 2. Delta_a and delta_b have dropped below a specified tolerance, $10^{-6}$, in this case"
   ]
  },
  {
   "cell_type": "code",
   "execution_count": 26,
   "id": "5900b39e",
   "metadata": {},
   "outputs": [
    {
     "name": "stdout",
     "output_type": "stream",
     "text": [
      "\n",
      "Using batch gradient descent with a learning rate of 0.01, the values of (a,b, execution time, #iterations) are  (0.3, 2.02, 0.4080841541290283, 1000)\n"
     ]
    }
   ],
   "source": [
    "batch_time = 0\n",
    "def lr_gd(X, Y, learning_rate = my_lr, init_a = 0, init_b = 0, max_iter = my_iter, tol = my_tol):\n",
    "    start_time = time.time()\n",
    "\n",
    "    a = 0\n",
    "    b = 0\n",
    "\n",
    "    n = X.shape[0] \n",
    "    \n",
    "    for i in range(max_iter): \n",
    "        Y_pred = a*X + b \n",
    "        \n",
    "        D_a = (-2/n) * np.dot(X.T,(Y - Y_pred))  \n",
    "        D_b = (-2/n) * sum(Y - Y_pred)  \n",
    "        \n",
    "        delta_a = (-1)*learning_rate * D_a\n",
    "        delta_b = (-1)*learning_rate * D_b\n",
    "\n",
    "        if (np.all(np.abs (delta_a) <= tol) & np.all(np.abs (delta_b) <= tol)): \n",
    "            break\n",
    "        \n",
    "        a+=delta_a\n",
    "        b+=delta_b\n",
    "# =============================================================================\n",
    "#         print(i)\n",
    "# =============================================================================\n",
    "    #print('It took ', str(i+1), ' iterations to arrive at the desired result')\n",
    "    #batch_time = time.time() - start_time\n",
    "    #print(\"--- %s seconds ---\" % (time.time() - start_time))\n",
    "\n",
    "    return round(a,2), round(b,2),time.time() - start_time, i+1 \n",
    "\n",
    "a,b,batch_time, iterations = lr_gd(X, Y)\n",
    "print('\\nUsing batch gradient descent with a learning rate of 0.01, the values of (a,b, execution time, #iterations) are ', (a,b,batch_time, iterations))\n"
   ]
  },
  {
   "cell_type": "markdown",
   "id": "2d353060",
   "metadata": {},
   "source": [
    "# Q1.d) Implement minibatch stochastic gradient descent using the code base you have developed so far.[15 points]\n"
   ]
  },
  {
   "cell_type": "markdown",
   "id": "53555593",
   "metadata": {},
   "source": [
    "## Stochastic- Gradient Descent"
   ]
  },
  {
   "cell_type": "code",
   "execution_count": 27,
   "id": "51b202b3",
   "metadata": {},
   "outputs": [],
   "source": [
    "def lr_stochastic_gd(X, Y, learning_rate = my_lr, init_a = 0, init_b = 0, max_iter = my_iter, tol = my_tol):\n",
    "    \n",
    "    start_time = time.time()\n",
    "    a = 0\n",
    "    b = 0\n",
    "\n",
    "    n = X.shape[0] \n",
    "    \n",
    "    for i in range(max_iter): \n",
    "        #np.random.seed (5)\n",
    "        random_index=np.random.randint(0,n-1)\n",
    "        X_mini= X[random_index]\n",
    "        Y_mini = Y[random_index]\n",
    "        \n",
    "        Y_pred = a*X_mini + b \n",
    "\n",
    "       # print(X_mini, Y_mini)\n",
    "\n",
    "\n",
    "        D_a = (-2)*X_mini*(Y_mini - Y_pred)  \n",
    "        D_b = (-2)*(Y_mini - Y_pred)  \n",
    "\n",
    "        delta_a = (-1)*learning_rate * D_a\n",
    "        delta_b = (-1)*learning_rate * D_b\n",
    "\n",
    "        if (np.all(np.abs (delta_a) <= tol) & np.all(np.abs (delta_b) <= tol)): \n",
    "            break\n",
    "\n",
    "        a+=delta_a\n",
    "        b+=delta_b\n",
    "\n",
    "# =============================================================================\n",
    "#         print(i)\n",
    "# =============================================================================\n",
    "    #print('It took ', str(i+1), ' iterations to arrive at the desired result')\n",
    "    #print(\"--- %s seconds ---\" % (time.time() - start_time))\n",
    "    #print (round(a,2), round(b,2))\n",
    "    return str(i+1), time.time() - start_time, round(a,2), round(b,2)"
   ]
  },
  {
   "cell_type": "markdown",
   "id": "c7c74594",
   "metadata": {},
   "source": [
    "## Since there is a large amount of fluctuation in SGD, we will try to run the SGD method multiple times, and stop when we get the values of our free parameters, __a__ and __b__ in our desired range."
   ]
  },
  {
   "cell_type": "markdown",
   "id": "315f0a9f",
   "metadata": {},
   "source": [
    "> "
   ]
  },
  {
   "cell_type": "code",
   "execution_count": 28,
   "id": "6ca0f53f",
   "metadata": {},
   "outputs": [
    {
     "name": "stdout",
     "output_type": "stream",
     "text": [
      "1000 0.0076160430908203125 0.34 2.0\n",
      "1000 0.007387876510620117 0.36 1.99\n",
      "1000 0.007524967193603516 0.47 2.18\n",
      "1000 0.007325887680053711 0.1 2.01\n",
      "1000 0.007283210754394531 0.26 2.06\n",
      "1000 0.007048130035400391 0.42 2.06\n",
      "1000 0.006937742233276367 0.23 1.93\n",
      "685 0.0047528743743896484 0.35 1.88\n",
      "1000 0.007102012634277344 0.37 1.97\n",
      "1000 0.00737309455871582 0.24 1.95\n",
      "1000 0.0073549747467041016 0.11 1.96\n",
      "1000 0.007309913635253906 0.36 2.11\n",
      "1000 0.00745081901550293 0.21 2.0\n",
      "1000 0.007350921630859375 0.29 2.02\n",
      "1000 0.007172107696533203 0.21 2.27\n",
      "1000 0.006978034973144531 0.15 1.99\n",
      "1000 0.007027149200439453 0.31 2.03\n",
      "1000 0.007027864456176758 0.26 1.98\n",
      "1000 0.0069501399993896484 0.24 2.11\n",
      "928 0.006754159927368164 0.43 2.07\n",
      "1000 0.007205963134765625 0.38 2.35\n",
      "1000 0.007725715637207031 0.33 2.13\n",
      "1000 0.0072231292724609375 0.45 1.97\n",
      "1000 0.007185935974121094 0.25 2.12\n",
      "1000 0.007153034210205078 0.27 2.08\n",
      "1000 0.00720524787902832 0.39 1.98\n",
      "1000 0.0070819854736328125 0.4 1.97\n",
      "1000 0.007089853286743164 0.38 2.05\n",
      "1000 0.007144927978515625 0.26 1.92\n",
      "1000 0.007174968719482422 0.22 2.12\n",
      "1000 0.006951808929443359 0.36 2.04\n",
      "1000 0.0071620941162109375 0.23 1.92\n",
      "1000 0.007696866989135742 0.22 2.01\n",
      "1000 0.007700920104980469 0.23 2.17\n",
      "1000 0.007444143295288086 0.47 1.97\n",
      "1000 0.007737874984741211 0.36 2.06\n",
      "1000 0.007226705551147461 0.53 1.94\n",
      "1000 0.007776975631713867 0.35 2.33\n",
      "1000 0.0072400569915771484 0.19 2.0\n",
      "1000 0.0077130794525146484 0.43 1.93\n",
      "1000 0.007279872894287109 0.49 2.15\n",
      "1000 0.007776975631713867 0.24 2.07\n",
      "1000 0.008320093154907227 0.24 2.08\n",
      "1000 0.008037805557250977 0.51 2.12\n",
      "1000 0.00771021842956543 0.3 2.11\n",
      "1000 0.008178949356079102 0.21 2.18\n",
      "1000 0.00757908821105957 0.26 2.03\n",
      "1000 0.008047819137573242 0.28 1.89\n",
      "1000 0.007874250411987305 0.45 1.99\n",
      "1000 0.008601188659667969 0.36 1.95\n",
      "1000 0.00767207145690918 0.23 2.15\n",
      "1000 0.008416175842285156 0.13 2.17\n",
      "783 0.005647897720336914 0.33 2.02\n",
      "1000 0.008532047271728516 0.36 1.95\n",
      "1000 0.00766301155090332 0.42 2.04\n",
      "1000 0.007947921752929688 0.23 2.1\n",
      "1000 0.007793903350830078 0.39 2.03\n",
      "1000 0.007810115814208984 0.39 2.11\n",
      "1000 0.008317947387695312 0.4 1.88\n",
      "1000 0.008533000946044922 0.31 2.19\n",
      "1000 0.008018970489501953 0.38 1.93\n",
      "1000 0.00821685791015625 0.33 2.03\n",
      "1000 0.0077860355377197266 0.35 2.02\n",
      "1000 0.007875919342041016 0.37 2.13\n",
      "1000 0.007319927215576172 0.22 2.01\n",
      "1000 0.007627010345458984 0.19 2.07\n",
      "402 0.0028748512268066406 0.38 2.02\n",
      "1000 0.007277011871337891 0.26 1.9\n",
      "1000 0.007523059844970703 0.39 1.97\n",
      "1000 0.007348060607910156 0.38 1.93\n",
      "1000 0.007298946380615234 0.03 2.12\n",
      "1000 0.00732421875 0.33 2.01\n",
      "1000 0.0076160430908203125 0.16 2.05\n",
      "1000 0.0071370601654052734 0.15 2.1\n",
      "1000 0.007628917694091797 0.4 1.96\n",
      "1000 0.007679939270019531 0.31 2.05\n",
      "1000 0.007691860198974609 0.2 2.0\n",
      "1000 0.007580995559692383 0.32 2.08\n",
      "1000 0.007340192794799805 0.33 2.17\n",
      "1000 0.007427215576171875 0.23 2.28\n",
      "1000 0.007337093353271484 0.3 2.01\n",
      "1000 0.007337093353271484\n"
     ]
    }
   ],
   "source": [
    "for i in range(10000):\n",
    "    it, exec_time, a,b = lr_stochastic_gd(X, Y)\n",
    "    print(it, exec_time, a, b)\n",
    "    if((a in [0.29, 0.3, 0.31]) and (b in [1.99, 2.0, 2.01])):\n",
    "        break\n",
    "\n",
    "print(it, exec_time)\n",
    "sgd_time = exec_time\n",
    "sgd_iterations = it"
   ]
  },
  {
   "cell_type": "markdown",
   "id": "a9380266",
   "metadata": {},
   "source": [
    "## Here we are creating a function for calculating the LR parameters using Minibatch GD\n",
    "### Steps:\n",
    "1. For each iteration, we are sampling the data from our input dataset of size equal to the batch size provided\n",
    "2. We will calculate the partial derivatives wrt __a__ and __b__\n",
    "3. We will update the values of __a__ and __b__ and calulate the delta of these params\n",
    "4. We will check if the delta values so calcuted fall below the pre-decided tolerance level\n",
    "5. If 4 happens to be true, we will stop and report the values of __a__ and __b__ \n",
    "6. If 4 is false, we will iterate till max_iter is reached, and return the values of __a__ and __b__"
   ]
  },
  {
   "cell_type": "code",
   "execution_count": 29,
   "id": "1e2fb424",
   "metadata": {},
   "outputs": [],
   "source": [
    "def lr_mb_gd(X, Y, batch_size, learning_rate = my_lr, init_a = 0, init_b = 0, max_iter = my_iter, tol = my_tol):\n",
    "    start_time = time.time()\n",
    "    a = 0\n",
    "    b = 0\n",
    "\n",
    "    n = float(len(X)) \n",
    "    \n",
    "    for i in range(max_iter): \n",
    "        #np.random.seed (5)\n",
    "        random_index=np.random.randint(0,n-batch_size-1)\n",
    "        X_mini= X[random_index:random_index+batch_size]\n",
    "        Y_mini = Y[random_index:random_index+batch_size]\n",
    "        \n",
    "        n_tmp = len(X_mini)\n",
    "        Y_pred = a*X_mini + b \n",
    "\n",
    "        D_a = (-2/n_tmp) * np.dot(X_mini.T,(Y_mini - Y_pred))  \n",
    "        D_b = (-2/n_tmp) * sum(Y_mini - Y_pred)  \n",
    "\n",
    "        delta_a = (-1)*learning_rate * D_a\n",
    "        delta_b = (-1)*learning_rate * D_b\n",
    "\n",
    "        if (np.all(np.abs (delta_a) <= tol) & np.all(np.abs (delta_b) <= tol)): \n",
    "            break\n",
    "\n",
    "        a+=delta_a\n",
    "        b+=delta_b\n",
    "\n",
    "# =============================================================================\n",
    "#         print(i)\n",
    "# =============================================================================\n",
    "    #print('It took ', str(i+1), ' iterations to arrive at the desired result')\n",
    "    #print(\"--- %s seconds ---\" % (time.time() - start_time))\n",
    "    #print (round(a,2), round(b,2))\n",
    "    return str(i+1), time.time() - start_time, round(a,2), round(b,2)"
   ]
  },
  {
   "cell_type": "markdown",
   "id": "99a7c3b4",
   "metadata": {},
   "source": [
    "### Now we will calculate the number of iterations, execution time for batch sizes in the range, \n",
    "## $$2^1, 2^2\\; ..... \\; 2^{10}$$\n",
    "\n",
    "### and try to find the values which give the most optimum values of __a__ and __b__ \n",
    "\n",
    "### NOTE: We are iterating over powers of 2 because it is __computationally faster__. Also powers of 2 fit the memory requirements of CPU and GPU"
   ]
  },
  {
   "cell_type": "code",
   "execution_count": 30,
   "id": "8c65aaea",
   "metadata": {},
   "outputs": [
    {
     "name": "stdout",
     "output_type": "stream",
     "text": [
      "{'batch_size': 2, 'iterations': '1000', 'exec_time': 0.013514041900634766, 'a': 0.36, 'b': 2.13}\n",
      "{'batch_size': 4, 'iterations': '1000', 'exec_time': 0.013070106506347656, 'a': 0.28, 'b': 1.98}\n",
      "{'batch_size': 8, 'iterations': '1000', 'exec_time': 0.011822938919067383, 'a': 0.32, 'b': 1.99}\n",
      "{'batch_size': 16, 'iterations': '1000', 'exec_time': 0.01166534423828125, 'a': 0.28, 'b': 2.01}\n",
      "{'batch_size': 32, 'iterations': '1000', 'exec_time': 0.012679100036621094, 'a': 0.24, 'b': 2.01}\n",
      "{'batch_size': 64, 'iterations': '1000', 'exec_time': 0.014554977416992188, 'a': 0.29, 'b': 2.02}\n",
      "{'batch_size': 128, 'iterations': '1000', 'exec_time': 0.017699003219604492, 'a': 0.3, 'b': 2.0}\n",
      "{'batch_size': 256, 'iterations': '1000', 'exec_time': 0.020943880081176758, 'a': 0.29, 'b': 2.03}\n",
      "{'batch_size': 512, 'iterations': '1000', 'exec_time': 0.03059220314025879, 'a': 0.29, 'b': 2.02}\n",
      "{'batch_size': 1024, 'iterations': '1000', 'exec_time': 0.052922964096069336, 'a': 0.29, 'b': 2.01}\n",
      "   batch_size iterations  exec_time     a     b\n",
      "0           2       1000   0.013514  0.36  2.13\n",
      "1           4       1000   0.013070  0.28  1.98\n",
      "2           8       1000   0.011823  0.32  1.99\n",
      "3          16       1000   0.011665  0.28  2.01\n",
      "4          32       1000   0.012679  0.24  2.01\n",
      "5          64       1000   0.014555  0.29  2.02\n",
      "6         128       1000   0.017699  0.30  2.00\n",
      "7         256       1000   0.020944  0.29  2.03\n",
      "8         512       1000   0.030592  0.29  2.02\n",
      "9        1024       1000   0.052923  0.29  2.01\n"
     ]
    }
   ],
   "source": [
    "batch_sizes = [2**i for i in range(1,11)]\n",
    "out = []\n",
    "\n",
    "for b in batch_sizes:\n",
    "    #print('batch_size ', str(b))\n",
    "    tmp = {}\n",
    "    tmp['batch_size'] = b\n",
    "    tmp['iterations'], tmp['exec_time'], tmp['a'], tmp['b'] = lr_mb_gd(X, Y, b)\n",
    "    #print('\\n')\n",
    "    print(tmp)\n",
    "    out.append(tmp)\n",
    "df = pd.DataFrame(out)\n",
    "print(df.head(50))\n",
    "\n"
   ]
  },
  {
   "cell_type": "markdown",
   "id": "3ef8320a",
   "metadata": {},
   "source": [
    "## As observed, we are getting the most optimal values for a and b using a batch size and time taken(seconds) as under:"
   ]
  },
  {
   "cell_type": "code",
   "execution_count": 31,
   "id": "cce392fc",
   "metadata": {},
   "outputs": [
    {
     "name": "stdout",
     "output_type": "stream",
     "text": [
      "0.017699003219604492 128 1000\n"
     ]
    }
   ],
   "source": [
    "mgd_time = df[(df['a'].isin([0.30,0.31,0.29])) & (df['b'].isin([1.99, 2.0, 2.01]))]['exec_time'].min()\n",
    "mgd_batch_size = list(df[df['exec_time'] == mgd_time]['batch_size'])[0]\n",
    "mgd_iterations = list(df[df['exec_time'] == mgd_time]['iterations'])[0]\n",
    "\n",
    "print(mgd_time,mgd_batch_size,mgd_iterations)\n"
   ]
  },
  {
   "cell_type": "markdown",
   "id": "998e5ecb",
   "metadata": {},
   "source": [
    "# Q1.e) Does SGD do better or worse in terms of time performance on our data? Is there an optimal minibatch size that works best? Quantify and interpret your findings."
   ]
  },
  {
   "cell_type": "markdown",
   "id": "dce92037",
   "metadata": {},
   "source": [
    "# Inference: \n"
   ]
  },
  {
   "cell_type": "code",
   "execution_count": 32,
   "id": "c9a28c6f",
   "metadata": {},
   "outputs": [
    {
     "name": "stdout",
     "output_type": "stream",
     "text": [
      "0.4080841541290283 0.017699003219604492 0.007337093353271484\n"
     ]
    }
   ],
   "source": [
    "print(batch_time, mgd_time, sgd_time)"
   ]
  },
  {
   "cell_type": "markdown",
   "id": "d507d712",
   "metadata": {},
   "source": [
    "## With fixed values for parameters like **learn rate = 0.005, and max_iter = 1000**, we can observe the time taken by the above three algorithms as:\n",
    "#### $$Batch\\; Gradient\\; Descent > MiniBatch\\; Gradient\\; Descent > Stochastic\\; Gradient\\; Descent$$ "
   ]
  },
  {
   "cell_type": "markdown",
   "id": "b363ab50",
   "metadata": {},
   "source": []
  },
  {
   "cell_type": "markdown",
   "id": "d5aa1fec",
   "metadata": {},
   "source": [
    "### The percentage reduction in execution time of Minibatch GD versus Batch GD is as below:"
   ]
  },
  {
   "cell_type": "markdown",
   "id": "378e144e",
   "metadata": {},
   "source": []
  },
  {
   "cell_type": "code",
   "execution_count": 33,
   "id": "a64ed629",
   "metadata": {},
   "outputs": [
    {
     "name": "stdout",
     "output_type": "stream",
     "text": [
      "MGD Time_reduction_perc versus Batch GD = 95.66 %\n"
     ]
    }
   ],
   "source": [
    "print('MGD Time_reduction_perc versus Batch GD =',round(((batch_time - mgd_time)/batch_time)*100,2), '%')"
   ]
  },
  {
   "cell_type": "markdown",
   "id": "b635f759",
   "metadata": {},
   "source": [
    "### The percentage reduction in execution time of Stochastic GD versus Batch GD is as below:"
   ]
  },
  {
   "cell_type": "code",
   "execution_count": 34,
   "id": "fe1c16bc",
   "metadata": {},
   "outputs": [
    {
     "name": "stdout",
     "output_type": "stream",
     "text": [
      "SGD Time_reduction_perc versus Batch GD = 98.2 %\n"
     ]
    }
   ],
   "source": [
    "print('SGD Time_reduction_perc versus Batch GD =',round(((batch_time - sgd_time)/batch_time)*100,2), '%')"
   ]
  },
  {
   "cell_type": "markdown",
   "id": "79b72f7c",
   "metadata": {},
   "source": [
    "### The percentage reduction in execution time of Stochastic GD versus Minibatch GD is as below:"
   ]
  },
  {
   "cell_type": "code",
   "execution_count": 35,
   "id": "3ae217ba",
   "metadata": {},
   "outputs": [
    {
     "name": "stdout",
     "output_type": "stream",
     "text": [
      "SGD Time_reduction_perc versus MGD = 58.55 %\n"
     ]
    }
   ],
   "source": [
    "print('SGD Time_reduction_perc versus MGD =',round(((mgd_time - sgd_time)/mgd_time)*100,2), '%')"
   ]
  },
  {
   "cell_type": "markdown",
   "id": "827b3741",
   "metadata": {},
   "source": [
    "\n",
    "<br>\n",
    "<br>\n",
    "\n",
    "## The most optimal batch size reported so for for Minibatch Grdadient Descent is:"
   ]
  },
  {
   "cell_type": "code",
   "execution_count": 36,
   "id": "12232941",
   "metadata": {},
   "outputs": [
    {
     "name": "stdout",
     "output_type": "stream",
     "text": [
      "128\n"
     ]
    }
   ],
   "source": [
    "print(mgd_batch_size)"
   ]
  },
  {
   "cell_type": "code",
   "execution_count": null,
   "id": "ae5119cd",
   "metadata": {},
   "outputs": [],
   "source": []
  },
  {
   "cell_type": "code",
   "execution_count": null,
   "id": "7b2920f7",
   "metadata": {},
   "outputs": [],
   "source": []
  }
 ],
 "metadata": {
  "kernelspec": {
   "display_name": "Python 3.8.13 ('mlp')",
   "language": "python",
   "name": "python3"
  },
  "language_info": {
   "codemirror_mode": {
    "name": "ipython",
    "version": 3
   },
   "file_extension": ".py",
   "mimetype": "text/x-python",
   "name": "python",
   "nbconvert_exporter": "python",
   "pygments_lexer": "ipython3",
   "version": "3.8.13"
  },
  "varInspector": {
   "cols": {
    "lenName": 16,
    "lenType": 16,
    "lenVar": 40
   },
   "kernels_config": {
    "python": {
     "delete_cmd_postfix": "",
     "delete_cmd_prefix": "del ",
     "library": "var_list.py",
     "varRefreshCmd": "print(var_dic_list())"
    },
    "r": {
     "delete_cmd_postfix": ") ",
     "delete_cmd_prefix": "rm(",
     "library": "var_list.r",
     "varRefreshCmd": "cat(var_dic_list()) "
    }
   },
   "types_to_exclude": [
    "module",
    "function",
    "builtin_function_or_method",
    "instance",
    "_Feature"
   ],
   "window_display": false
  },
  "vscode": {
   "interpreter": {
    "hash": "4976e0179d97dd6d59b1329a76e601e17b789c2571b41c8b57f5fd69821c0dd3"
   }
  }
 },
 "nbformat": 4,
 "nbformat_minor": 5
}
